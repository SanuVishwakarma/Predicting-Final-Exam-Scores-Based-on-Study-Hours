{
 "cells": [
  {
   "cell_type": "markdown",
   "id": "6e85a6a2",
   "metadata": {},
   "source": [
    "# Load Libraries"
   ]
  },
  {
   "cell_type": "code",
   "execution_count": 33,
   "id": "aaa5c723",
   "metadata": {},
   "outputs": [],
   "source": [
    "import numpy as np\n",
    "import pandas as pd\n",
    "import matplotlib.pyplot as plt\n",
    "import seaborn as sns\n",
    "import sklearn"
   ]
  },
  {
   "cell_type": "markdown",
   "id": "29116cfb",
   "metadata": {},
   "source": [
    "# Load Data"
   ]
  },
  {
   "cell_type": "code",
   "execution_count": 2,
   "id": "a19aeab7",
   "metadata": {},
   "outputs": [
    {
     "data": {
      "text/html": [
       "<div>\n",
       "<style scoped>\n",
       "    .dataframe tbody tr th:only-of-type {\n",
       "        vertical-align: middle;\n",
       "    }\n",
       "\n",
       "    .dataframe tbody tr th {\n",
       "        vertical-align: top;\n",
       "    }\n",
       "\n",
       "    .dataframe thead th {\n",
       "        text-align: right;\n",
       "    }\n",
       "</style>\n",
       "<table border=\"1\" class=\"dataframe\">\n",
       "  <thead>\n",
       "    <tr style=\"text-align: right;\">\n",
       "      <th></th>\n",
       "      <th>study_hours</th>\n",
       "      <th>student_marks</th>\n",
       "    </tr>\n",
       "  </thead>\n",
       "  <tbody>\n",
       "    <tr>\n",
       "      <th>0</th>\n",
       "      <td>6.83</td>\n",
       "      <td>78.50</td>\n",
       "    </tr>\n",
       "    <tr>\n",
       "      <th>1</th>\n",
       "      <td>6.56</td>\n",
       "      <td>76.74</td>\n",
       "    </tr>\n",
       "    <tr>\n",
       "      <th>2</th>\n",
       "      <td>NaN</td>\n",
       "      <td>78.68</td>\n",
       "    </tr>\n",
       "    <tr>\n",
       "      <th>3</th>\n",
       "      <td>5.67</td>\n",
       "      <td>71.82</td>\n",
       "    </tr>\n",
       "    <tr>\n",
       "      <th>4</th>\n",
       "      <td>8.67</td>\n",
       "      <td>84.19</td>\n",
       "    </tr>\n",
       "    <tr>\n",
       "      <th>...</th>\n",
       "      <td>...</td>\n",
       "      <td>...</td>\n",
       "    </tr>\n",
       "    <tr>\n",
       "      <th>195</th>\n",
       "      <td>7.53</td>\n",
       "      <td>81.67</td>\n",
       "    </tr>\n",
       "    <tr>\n",
       "      <th>196</th>\n",
       "      <td>8.56</td>\n",
       "      <td>84.68</td>\n",
       "    </tr>\n",
       "    <tr>\n",
       "      <th>197</th>\n",
       "      <td>8.94</td>\n",
       "      <td>86.75</td>\n",
       "    </tr>\n",
       "    <tr>\n",
       "      <th>198</th>\n",
       "      <td>6.60</td>\n",
       "      <td>78.05</td>\n",
       "    </tr>\n",
       "    <tr>\n",
       "      <th>199</th>\n",
       "      <td>8.35</td>\n",
       "      <td>83.50</td>\n",
       "    </tr>\n",
       "  </tbody>\n",
       "</table>\n",
       "<p>200 rows × 2 columns</p>\n",
       "</div>"
      ],
      "text/plain": [
       "     study_hours  student_marks\n",
       "0           6.83          78.50\n",
       "1           6.56          76.74\n",
       "2            NaN          78.68\n",
       "3           5.67          71.82\n",
       "4           8.67          84.19\n",
       "..           ...            ...\n",
       "195         7.53          81.67\n",
       "196         8.56          84.68\n",
       "197         8.94          86.75\n",
       "198         6.60          78.05\n",
       "199         8.35          83.50\n",
       "\n",
       "[200 rows x 2 columns]"
      ]
     },
     "execution_count": 2,
     "metadata": {},
     "output_type": "execute_result"
    }
   ],
   "source": [
    "df = pd.read_csv(r'D:\\CSV file\\student_info.csv')\n",
    "df"
   ]
  },
  {
   "cell_type": "markdown",
   "id": "53447b67",
   "metadata": {},
   "source": [
    "# Data Preprocessing"
   ]
  },
  {
   "cell_type": "code",
   "execution_count": 3,
   "id": "2321277d",
   "metadata": {
    "scrolled": false
   },
   "outputs": [
    {
     "data": {
      "text/plain": [
       "study_hours      5\n",
       "student_marks    0\n",
       "dtype: int64"
      ]
     },
     "execution_count": 3,
     "metadata": {},
     "output_type": "execute_result"
    }
   ],
   "source": [
    "df.isnull().sum()"
   ]
  },
  {
   "cell_type": "code",
   "execution_count": 4,
   "id": "250dff6c",
   "metadata": {},
   "outputs": [
    {
     "data": {
      "text/plain": [
       "study_hours       6.995949\n",
       "student_marks    77.933750\n",
       "dtype: float64"
      ]
     },
     "execution_count": 4,
     "metadata": {},
     "output_type": "execute_result"
    }
   ],
   "source": [
    "df.mean()"
   ]
  },
  {
   "cell_type": "code",
   "execution_count": 5,
   "id": "8603accd",
   "metadata": {},
   "outputs": [
    {
     "data": {
      "text/html": [
       "<div>\n",
       "<style scoped>\n",
       "    .dataframe tbody tr th:only-of-type {\n",
       "        vertical-align: middle;\n",
       "    }\n",
       "\n",
       "    .dataframe tbody tr th {\n",
       "        vertical-align: top;\n",
       "    }\n",
       "\n",
       "    .dataframe thead th {\n",
       "        text-align: right;\n",
       "    }\n",
       "</style>\n",
       "<table border=\"1\" class=\"dataframe\">\n",
       "  <thead>\n",
       "    <tr style=\"text-align: right;\">\n",
       "      <th></th>\n",
       "      <th>study_hours</th>\n",
       "      <th>student_marks</th>\n",
       "    </tr>\n",
       "  </thead>\n",
       "  <tbody>\n",
       "    <tr>\n",
       "      <th>0</th>\n",
       "      <td>6.830000</td>\n",
       "      <td>78.50</td>\n",
       "    </tr>\n",
       "    <tr>\n",
       "      <th>1</th>\n",
       "      <td>6.560000</td>\n",
       "      <td>76.74</td>\n",
       "    </tr>\n",
       "    <tr>\n",
       "      <th>2</th>\n",
       "      <td>6.995949</td>\n",
       "      <td>78.68</td>\n",
       "    </tr>\n",
       "    <tr>\n",
       "      <th>3</th>\n",
       "      <td>5.670000</td>\n",
       "      <td>71.82</td>\n",
       "    </tr>\n",
       "    <tr>\n",
       "      <th>4</th>\n",
       "      <td>8.670000</td>\n",
       "      <td>84.19</td>\n",
       "    </tr>\n",
       "    <tr>\n",
       "      <th>...</th>\n",
       "      <td>...</td>\n",
       "      <td>...</td>\n",
       "    </tr>\n",
       "    <tr>\n",
       "      <th>195</th>\n",
       "      <td>7.530000</td>\n",
       "      <td>81.67</td>\n",
       "    </tr>\n",
       "    <tr>\n",
       "      <th>196</th>\n",
       "      <td>8.560000</td>\n",
       "      <td>84.68</td>\n",
       "    </tr>\n",
       "    <tr>\n",
       "      <th>197</th>\n",
       "      <td>8.940000</td>\n",
       "      <td>86.75</td>\n",
       "    </tr>\n",
       "    <tr>\n",
       "      <th>198</th>\n",
       "      <td>6.600000</td>\n",
       "      <td>78.05</td>\n",
       "    </tr>\n",
       "    <tr>\n",
       "      <th>199</th>\n",
       "      <td>8.350000</td>\n",
       "      <td>83.50</td>\n",
       "    </tr>\n",
       "  </tbody>\n",
       "</table>\n",
       "<p>200 rows × 2 columns</p>\n",
       "</div>"
      ],
      "text/plain": [
       "     study_hours  student_marks\n",
       "0       6.830000          78.50\n",
       "1       6.560000          76.74\n",
       "2       6.995949          78.68\n",
       "3       5.670000          71.82\n",
       "4       8.670000          84.19\n",
       "..           ...            ...\n",
       "195     7.530000          81.67\n",
       "196     8.560000          84.68\n",
       "197     8.940000          86.75\n",
       "198     6.600000          78.05\n",
       "199     8.350000          83.50\n",
       "\n",
       "[200 rows x 2 columns]"
      ]
     },
     "execution_count": 5,
     "metadata": {},
     "output_type": "execute_result"
    }
   ],
   "source": [
    "df2 = df.fillna(df.mean())\n",
    "df2"
   ]
  },
  {
   "cell_type": "code",
   "execution_count": 6,
   "id": "c07eeab3",
   "metadata": {},
   "outputs": [
    {
     "data": {
      "text/plain": [
       "study_hours      0\n",
       "student_marks    0\n",
       "dtype: int64"
      ]
     },
     "execution_count": 6,
     "metadata": {},
     "output_type": "execute_result"
    }
   ],
   "source": [
    "df2.isnull().sum()"
   ]
  },
  {
   "cell_type": "markdown",
   "id": "eb6c4646",
   "metadata": {},
   "source": [
    "# Data visualization"
   ]
  },
  {
   "cell_type": "code",
   "execution_count": 7,
   "id": "44a2383e",
   "metadata": {},
   "outputs": [
    {
     "data": {
      "image/png": "[encoded data removed]",
      "text/plain": [
       "<Figure size 640x480 with 1 Axes>"
      ]
     },
     "metadata": {},
     "output_type": "display_data"
    }
   ],
   "source": [
    "plt.scatter(x=df.study_hours, y=df.student_marks)\n",
    "plt.xlabel('Student study hours')\n",
    "plt.ylabel('Student marks')\n",
    "plt.title('Scatter plot of student study hours vs marks')\n",
    "plt.show()"
   ]
  },
  {
   "cell_type": "markdown",
   "id": "8519d717",
   "metadata": {},
   "source": [
    "# Prepare the data for machine learning algorithems"
   ]
  },
  {
   "cell_type": "markdown",
   "id": "2dac23c5",
   "metadata": {},
   "source": [
    "## Split data"
   ]
  },
  {
   "cell_type": "code",
   "execution_count": 11,
   "id": "23470477",
   "metadata": {},
   "outputs": [
    {
     "name": "stdout",
     "output_type": "stream",
     "text": [
      "shape of X = (200, 1)\n",
      "shape of y = (200, 1)\n"
     ]
    }
   ],
   "source": [
    "X = df2.drop('student_marks', axis=1) \n",
    "y = df2.drop('study_hours', axis=1)\n",
    "print('shape of X =', X.shape)\n",
    "print('shape of y =', y.shape)"
   ]
  },
  {
   "cell_type": "code",
   "execution_count": 12,
   "id": "9d2bc965",
   "metadata": {
    "scrolled": true
   },
   "outputs": [
    {
     "name": "stdout",
     "output_type": "stream",
     "text": [
      "shape of X_train =  (140, 1)\n",
      "shape of y_train =  (140, 1)\n",
      "shape of X_test =  (60, 1)\n",
      "shape of y_test =  (60, 1)\n"
     ]
    }
   ],
   "source": [
    "from sklearn.model_selection import train_test_split\n",
    "X_train, X_test,y_train,y_test = train_test_split(X,y, test_size = 0.3, random_state=51)\n",
    "print(\"shape of X_train = \", X_train.shape)\n",
    "print(\"shape of y_train = \", y_train.shape)\n",
    "print(\"shape of X_test = \", X_test.shape)\n",
    "print(\"shape of y_test = \", y_test.shape)"
   ]
  },
  {
   "cell_type": "code",
   "execution_count": 44,
   "id": "f0012633",
   "metadata": {},
   "outputs": [],
   "source": [
    "z = y_test.values"
   ]
  },
  {
   "cell_type": "markdown",
   "id": "0df355ee",
   "metadata": {},
   "source": [
    "# Select a model and train it"
   ]
  },
  {
   "cell_type": "code",
   "execution_count": 13,
   "id": "e9129c52",
   "metadata": {},
   "outputs": [],
   "source": [
    "# y = m*x + c\n",
    "from sklearn.linear_model import LinearRegression\n",
    "lr = LinearRegression()"
   ]
  },
  {
   "cell_type": "code",
   "execution_count": 14,
   "id": "a9258dd6",
   "metadata": {},
   "outputs": [
    {
     "data": {
      "text/html": [
       "<style>#sk-container-id-1 {color: black;background-color: white;}#sk-container-id-1 pre{padding: 0;}#sk-container-id-1 div.sk-toggleable {background-color: white;}#sk-container-id-1 label.sk-toggleable__label {cursor: pointer;display: block;width: 100%;margin-bottom: 0;padding: 0.3em;box-sizing: border-box;text-align: center;}#sk-container-id-1 label.sk-toggleable__label-arrow:before {content: \"▸\";float: left;margin-right: 0.25em;color: #696969;}#sk-container-id-1 label.sk-toggleable__label-arrow:hover:before {color: black;}#sk-container-id-1 div.sk-estimator:hover label.sk-toggleable__label-arrow:before {color: black;}#sk-container-id-1 div.sk-toggleable__content {max-height: 0;max-width: 0;overflow: hidden;text-align: left;background-color: #f0f8ff;}#sk-container-id-1 div.sk-toggleable__content pre {margin: 0.2em;color: black;border-radius: 0.25em;background-color: #f0f8ff;}#sk-container-id-1 input.sk-toggleable__control:checked~div.sk-toggleable__content {max-height: 200px;max-width: 100%;overflow: auto;}#sk-container-id-1 input.sk-toggleable__control:checked~label.sk-toggleable__label-arrow:before {content: \"▾\";}#sk-container-id-1 div.sk-estimator input.sk-toggleable__control:checked~label.sk-toggleable__label {background-color: #d4ebff;}#sk-container-id-1 div.sk-label input.sk-toggleable__control:checked~label.sk-toggleable__label {background-color: #d4ebff;}#sk-container-id-1 input.sk-hidden--visually {border: 0;clip: rect(1px 1px 1px 1px);clip: rect(1px, 1px, 1px, 1px);height: 1px;margin: -1px;overflow: hidden;padding: 0;position: absolute;width: 1px;}#sk-container-id-1 div.sk-estimator {font-family: monospace;background-color: #f0f8ff;border: 1px dotted black;border-radius: 0.25em;box-sizing: border-box;margin-bottom: 0.5em;}#sk-container-id-1 div.sk-estimator:hover {background-color: #d4ebff;}#sk-container-id-1 div.sk-parallel-item::after {content: \"\";width: 100%;border-bottom: 1px solid gray;flex-grow: 1;}#sk-container-id-1 div.sk-label:hover label.sk-toggleable__label {background-color: #d4ebff;}#sk-container-id-1 div.sk-serial::before {content: \"\";position: absolute;border-left: 1px solid gray;box-sizing: border-box;top: 0;bottom: 0;left: 50%;z-index: 0;}#sk-container-id-1 div.sk-serial {display: flex;flex-direction: column;align-items: center;background-color: white;padding-right: 0.2em;padding-left: 0.2em;position: relative;}#sk-container-id-1 div.sk-item {position: relative;z-index: 1;}#sk-container-id-1 div.sk-parallel {display: flex;align-items: stretch;justify-content: center;background-color: white;position: relative;}#sk-container-id-1 div.sk-item::before, #sk-container-id-1 div.sk-parallel-item::before {content: \"\";position: absolute;border-left: 1px solid gray;box-sizing: border-box;top: 0;bottom: 0;left: 50%;z-index: -1;}#sk-container-id-1 div.sk-parallel-item {display: flex;flex-direction: column;z-index: 1;position: relative;background-color: white;}#sk-container-id-1 div.sk-parallel-item:first-child::after {align-self: flex-end;width: 50%;}#sk-container-id-1 div.sk-parallel-item:last-child::after {align-self: flex-start;width: 50%;}#sk-container-id-1 div.sk-parallel-item:only-child::after {width: 0;}#sk-container-id-1 div.sk-dashed-wrapped {border: 1px dashed gray;margin: 0 0.4em 0.5em 0.4em;box-sizing: border-box;padding-bottom: 0.4em;background-color: white;}#sk-container-id-1 div.sk-label label {font-family: monospace;font-weight: bold;display: inline-block;line-height: 1.2em;}#sk-container-id-1 div.sk-label-container {text-align: center;}#sk-container-id-1 div.sk-container {/* jupyter's `normalize.less` sets `[hidden] { display: none; }` but bootstrap.min.css set `[hidden] { display: none !important; }` so we also need the `!important` here to be able to override the default hidden behavior on the sphinx rendered scikit-learn.org. See: https://github.com/scikit-learn/scikit-learn/issues/21755 */display: inline-block !important;position: relative;}#sk-container-id-1 div.sk-text-repr-fallback {display: none;}</style><div id=\"sk-container-id-1\" class=\"sk-top-container\"><div class=\"sk-text-repr-fallback\"><pre>LinearRegression()</pre><b>In a Jupyter environment, please rerun this cell to show the HTML representation or trust the notebook. <br />On GitHub, the HTML representation is unable to render, please try loading this page with nbviewer.org.</b></div><div class=\"sk-container\" hidden><div class=\"sk-item\"><div class=\"sk-estimator sk-toggleable\"><input class=\"sk-toggleable__control sk-hidden--visually\" id=\"sk-estimator-id-1\" type=\"checkbox\" checked><label for=\"sk-estimator-id-1\" class=\"sk-toggleable__label sk-toggleable__label-arrow\">LinearRegression</label><div class=\"sk-toggleable__content\"><pre>LinearRegression()</pre></div></div></div></div></div>"
      ],
      "text/plain": [
       "LinearRegression()"
      ]
     },
     "execution_count": 14,
     "metadata": {},
     "output_type": "execute_result"
    }
   ],
   "source": [
    "lr.fit(X_train, y_train)"
   ]
  },
  {
   "cell_type": "code",
   "execution_count": 15,
   "id": "d299f3cc",
   "metadata": {},
   "outputs": [
    {
     "data": {
      "text/plain": [
       "array([[3.9391835]])"
      ]
     },
     "execution_count": 15,
     "metadata": {},
     "output_type": "execute_result"
    }
   ],
   "source": [
    "lr.coef_"
   ]
  },
  {
   "cell_type": "code",
   "execution_count": 16,
   "id": "1286fc5c",
   "metadata": {},
   "outputs": [
    {
     "data": {
      "text/plain": [
       "array([50.47174682])"
      ]
     },
     "execution_count": 16,
     "metadata": {},
     "output_type": "execute_result"
    }
   ],
   "source": [
    "lr.intercept_"
   ]
  },
  {
   "cell_type": "code",
   "execution_count": 17,
   "id": "81c46433",
   "metadata": {},
   "outputs": [
    {
     "data": {
      "text/plain": [
       "66.21300964"
      ]
     },
     "execution_count": 17,
     "metadata": {},
     "output_type": "execute_result"
    }
   ],
   "source": [
    "m = 3.937266\n",
    "c = 50.46394564\n",
    "y = m*4 + c\n",
    "y"
   ]
  },
  {
   "cell_type": "code",
   "execution_count": 18,
   "id": "9a0a2bf4",
   "metadata": {},
   "outputs": [
    {
     "name": "stderr",
     "output_type": "stream",
     "text": [
      "C:\\Users\\sanuv\\anaconda3\\lib\\site-packages\\sklearn\\base.py:439: UserWarning: X does not have valid feature names, but LinearRegression was fitted with feature names\n",
      "  warnings.warn(\n"
     ]
    },
    {
     "data": {
      "text/plain": [
       "66.23"
      ]
     },
     "execution_count": 18,
     "metadata": {},
     "output_type": "execute_result"
    }
   ],
   "source": [
    "lr.predict([[4]])[0][0].round(2)"
   ]
  },
  {
   "cell_type": "code",
   "execution_count": 19,
   "id": "88e525e6",
   "metadata": {
    "scrolled": true
   },
   "outputs": [
    {
     "data": {
      "text/plain": [
       "array([[83.16696985],\n",
       "       [78.95204351],\n",
       "       [84.62446774],\n",
       "       [85.88500646],\n",
       "       [84.78203508],\n",
       "       [80.80345975],\n",
       "       [72.88570092],\n",
       "       [71.70394587],\n",
       "       [73.27961927],\n",
       "       [71.70394587],\n",
       "       [73.51597028],\n",
       "       [76.43096607],\n",
       "       [73.27961927],\n",
       "       [73.63414578],\n",
       "       [83.00940251],\n",
       "       [70.44340715],\n",
       "       [73.27961927],\n",
       "       [78.79447617],\n",
       "       [75.60373753],\n",
       "       [82.73365966],\n",
       "       [76.70670891],\n",
       "       [70.52219082],\n",
       "       [74.81590083],\n",
       "       [78.03007256],\n",
       "       [85.64865545],\n",
       "       [82.61548416],\n",
       "       [76.4703579 ],\n",
       "       [85.09716976],\n",
       "       [78.43994965],\n",
       "       [81.43372911],\n",
       "       [81.78825562],\n",
       "       [83.20636168],\n",
       "       [82.26095764],\n",
       "       [81.15798626],\n",
       "       [73.63414578],\n",
       "       [71.19185201],\n",
       "       [71.94029688],\n",
       "       [81.59129645],\n",
       "       [72.64934991],\n",
       "       [71.97968871],\n",
       "       [70.91610917],\n",
       "       [81.94582296],\n",
       "       [80.88224342],\n",
       "       [83.16696985],\n",
       "       [85.45169628],\n",
       "       [77.73089662],\n",
       "       [82.18217397],\n",
       "       [72.72813358],\n",
       "       [80.09440672],\n",
       "       [77.06123543],\n",
       "       [80.68528424],\n",
       "       [71.7433377 ],\n",
       "       [76.98245176],\n",
       "       [79.26717819],\n",
       "       [72.68874174],\n",
       "       [83.52149636],\n",
       "       [75.5643457 ],\n",
       "       [71.6251622 ],\n",
       "       [77.77028846],\n",
       "       [83.36392902]])"
      ]
     },
     "execution_count": 19,
     "metadata": {},
     "output_type": "execute_result"
    }
   ],
   "source": [
    "y_pred = lr.predict(X_test)\n",
    "y_pred"
   ]
  },
  {
   "cell_type": "code",
   "execution_count": 54,
   "id": "f122b094",
   "metadata": {
    "scrolled": true
   },
   "outputs": [
    {
     "data": {
      "text/html": [
       "<div>\n",
       "<style scoped>\n",
       "    .dataframe tbody tr th:only-of-type {\n",
       "        vertical-align: middle;\n",
       "    }\n",
       "\n",
       "    .dataframe tbody tr th {\n",
       "        vertical-align: top;\n",
       "    }\n",
       "\n",
       "    .dataframe thead th {\n",
       "        text-align: right;\n",
       "    }\n",
       "</style>\n",
       "<table border=\"1\" class=\"dataframe\">\n",
       "  <thead>\n",
       "    <tr style=\"text-align: right;\">\n",
       "      <th></th>\n",
       "      <th>Student study hours</th>\n",
       "      <th>student marks original</th>\n",
       "      <th>student marks predicted</th>\n",
       "    </tr>\n",
       "  </thead>\n",
       "  <tbody>\n",
       "    <tr>\n",
       "      <th>0</th>\n",
       "      <td>8.300000</td>\n",
       "      <td>82.02</td>\n",
       "      <td>83.166970</td>\n",
       "    </tr>\n",
       "    <tr>\n",
       "      <th>1</th>\n",
       "      <td>7.230000</td>\n",
       "      <td>77.55</td>\n",
       "      <td>78.952044</td>\n",
       "    </tr>\n",
       "    <tr>\n",
       "      <th>2</th>\n",
       "      <td>8.670000</td>\n",
       "      <td>84.19</td>\n",
       "      <td>84.624468</td>\n",
       "    </tr>\n",
       "    <tr>\n",
       "      <th>3</th>\n",
       "      <td>8.990000</td>\n",
       "      <td>85.46</td>\n",
       "      <td>85.885006</td>\n",
       "    </tr>\n",
       "    <tr>\n",
       "      <th>4</th>\n",
       "      <td>8.710000</td>\n",
       "      <td>84.03</td>\n",
       "      <td>84.782035</td>\n",
       "    </tr>\n",
       "    <tr>\n",
       "      <th>5</th>\n",
       "      <td>7.700000</td>\n",
       "      <td>80.81</td>\n",
       "      <td>80.803460</td>\n",
       "    </tr>\n",
       "    <tr>\n",
       "      <th>6</th>\n",
       "      <td>5.690000</td>\n",
       "      <td>73.61</td>\n",
       "      <td>72.885701</td>\n",
       "    </tr>\n",
       "    <tr>\n",
       "      <th>7</th>\n",
       "      <td>5.390000</td>\n",
       "      <td>70.90</td>\n",
       "      <td>71.703946</td>\n",
       "    </tr>\n",
       "    <tr>\n",
       "      <th>8</th>\n",
       "      <td>5.790000</td>\n",
       "      <td>73.14</td>\n",
       "      <td>73.279619</td>\n",
       "    </tr>\n",
       "    <tr>\n",
       "      <th>9</th>\n",
       "      <td>5.390000</td>\n",
       "      <td>73.02</td>\n",
       "      <td>71.703946</td>\n",
       "    </tr>\n",
       "    <tr>\n",
       "      <th>10</th>\n",
       "      <td>5.850000</td>\n",
       "      <td>75.02</td>\n",
       "      <td>73.515970</td>\n",
       "    </tr>\n",
       "    <tr>\n",
       "      <th>11</th>\n",
       "      <td>6.590000</td>\n",
       "      <td>75.37</td>\n",
       "      <td>76.430966</td>\n",
       "    </tr>\n",
       "    <tr>\n",
       "      <th>12</th>\n",
       "      <td>5.790000</td>\n",
       "      <td>74.44</td>\n",
       "      <td>73.279619</td>\n",
       "    </tr>\n",
       "    <tr>\n",
       "      <th>13</th>\n",
       "      <td>5.880000</td>\n",
       "      <td>73.40</td>\n",
       "      <td>73.634146</td>\n",
       "    </tr>\n",
       "    <tr>\n",
       "      <th>14</th>\n",
       "      <td>8.260000</td>\n",
       "      <td>81.70</td>\n",
       "      <td>83.009403</td>\n",
       "    </tr>\n",
       "    <tr>\n",
       "      <th>15</th>\n",
       "      <td>5.070000</td>\n",
       "      <td>69.27</td>\n",
       "      <td>70.443407</td>\n",
       "    </tr>\n",
       "    <tr>\n",
       "      <th>16</th>\n",
       "      <td>5.790000</td>\n",
       "      <td>73.64</td>\n",
       "      <td>73.279619</td>\n",
       "    </tr>\n",
       "    <tr>\n",
       "      <th>17</th>\n",
       "      <td>7.190000</td>\n",
       "      <td>77.63</td>\n",
       "      <td>78.794476</td>\n",
       "    </tr>\n",
       "    <tr>\n",
       "      <th>18</th>\n",
       "      <td>6.380000</td>\n",
       "      <td>77.01</td>\n",
       "      <td>75.603738</td>\n",
       "    </tr>\n",
       "    <tr>\n",
       "      <th>19</th>\n",
       "      <td>8.190000</td>\n",
       "      <td>83.08</td>\n",
       "      <td>82.733660</td>\n",
       "    </tr>\n",
       "    <tr>\n",
       "      <th>20</th>\n",
       "      <td>6.660000</td>\n",
       "      <td>76.63</td>\n",
       "      <td>76.706709</td>\n",
       "    </tr>\n",
       "    <tr>\n",
       "      <th>21</th>\n",
       "      <td>5.090000</td>\n",
       "      <td>72.22</td>\n",
       "      <td>70.522191</td>\n",
       "    </tr>\n",
       "    <tr>\n",
       "      <th>22</th>\n",
       "      <td>6.180000</td>\n",
       "      <td>72.96</td>\n",
       "      <td>74.815901</td>\n",
       "    </tr>\n",
       "    <tr>\n",
       "      <th>23</th>\n",
       "      <td>6.995949</td>\n",
       "      <td>76.14</td>\n",
       "      <td>78.030073</td>\n",
       "    </tr>\n",
       "    <tr>\n",
       "      <th>24</th>\n",
       "      <td>8.930000</td>\n",
       "      <td>85.96</td>\n",
       "      <td>85.648655</td>\n",
       "    </tr>\n",
       "    <tr>\n",
       "      <th>25</th>\n",
       "      <td>8.160000</td>\n",
       "      <td>83.36</td>\n",
       "      <td>82.615484</td>\n",
       "    </tr>\n",
       "    <tr>\n",
       "      <th>26</th>\n",
       "      <td>6.600000</td>\n",
       "      <td>78.05</td>\n",
       "      <td>76.470358</td>\n",
       "    </tr>\n",
       "    <tr>\n",
       "      <th>27</th>\n",
       "      <td>8.790000</td>\n",
       "      <td>84.60</td>\n",
       "      <td>85.097170</td>\n",
       "    </tr>\n",
       "    <tr>\n",
       "      <th>28</th>\n",
       "      <td>7.100000</td>\n",
       "      <td>76.76</td>\n",
       "      <td>78.439950</td>\n",
       "    </tr>\n",
       "    <tr>\n",
       "      <th>29</th>\n",
       "      <td>7.860000</td>\n",
       "      <td>81.24</td>\n",
       "      <td>81.433729</td>\n",
       "    </tr>\n",
       "    <tr>\n",
       "      <th>30</th>\n",
       "      <td>7.950000</td>\n",
       "      <td>80.86</td>\n",
       "      <td>81.788256</td>\n",
       "    </tr>\n",
       "    <tr>\n",
       "      <th>31</th>\n",
       "      <td>8.310000</td>\n",
       "      <td>82.69</td>\n",
       "      <td>83.206362</td>\n",
       "    </tr>\n",
       "    <tr>\n",
       "      <th>32</th>\n",
       "      <td>8.070000</td>\n",
       "      <td>82.30</td>\n",
       "      <td>82.260958</td>\n",
       "    </tr>\n",
       "    <tr>\n",
       "      <th>33</th>\n",
       "      <td>7.790000</td>\n",
       "      <td>79.17</td>\n",
       "      <td>81.157986</td>\n",
       "    </tr>\n",
       "    <tr>\n",
       "      <th>34</th>\n",
       "      <td>5.880000</td>\n",
       "      <td>73.34</td>\n",
       "      <td>73.634146</td>\n",
       "    </tr>\n",
       "    <tr>\n",
       "      <th>35</th>\n",
       "      <td>5.260000</td>\n",
       "      <td>71.86</td>\n",
       "      <td>71.191852</td>\n",
       "    </tr>\n",
       "    <tr>\n",
       "      <th>36</th>\n",
       "      <td>5.450000</td>\n",
       "      <td>70.06</td>\n",
       "      <td>71.940297</td>\n",
       "    </tr>\n",
       "    <tr>\n",
       "      <th>37</th>\n",
       "      <td>7.900000</td>\n",
       "      <td>80.76</td>\n",
       "      <td>81.591296</td>\n",
       "    </tr>\n",
       "    <tr>\n",
       "      <th>38</th>\n",
       "      <td>5.630000</td>\n",
       "      <td>72.87</td>\n",
       "      <td>72.649350</td>\n",
       "    </tr>\n",
       "    <tr>\n",
       "      <th>39</th>\n",
       "      <td>5.460000</td>\n",
       "      <td>71.10</td>\n",
       "      <td>71.979689</td>\n",
       "    </tr>\n",
       "    <tr>\n",
       "      <th>40</th>\n",
       "      <td>5.190000</td>\n",
       "      <td>70.66</td>\n",
       "      <td>70.916109</td>\n",
       "    </tr>\n",
       "    <tr>\n",
       "      <th>41</th>\n",
       "      <td>7.990000</td>\n",
       "      <td>82.75</td>\n",
       "      <td>81.945823</td>\n",
       "    </tr>\n",
       "    <tr>\n",
       "      <th>42</th>\n",
       "      <td>7.720000</td>\n",
       "      <td>80.43</td>\n",
       "      <td>80.882243</td>\n",
       "    </tr>\n",
       "    <tr>\n",
       "      <th>43</th>\n",
       "      <td>8.300000</td>\n",
       "      <td>82.84</td>\n",
       "      <td>83.166970</td>\n",
       "    </tr>\n",
       "    <tr>\n",
       "      <th>44</th>\n",
       "      <td>8.880000</td>\n",
       "      <td>85.78</td>\n",
       "      <td>85.451696</td>\n",
       "    </tr>\n",
       "    <tr>\n",
       "      <th>45</th>\n",
       "      <td>6.920000</td>\n",
       "      <td>76.38</td>\n",
       "      <td>77.730897</td>\n",
       "    </tr>\n",
       "    <tr>\n",
       "      <th>46</th>\n",
       "      <td>8.050000</td>\n",
       "      <td>79.63</td>\n",
       "      <td>82.182174</td>\n",
       "    </tr>\n",
       "    <tr>\n",
       "      <th>47</th>\n",
       "      <td>5.650000</td>\n",
       "      <td>71.70</td>\n",
       "      <td>72.728134</td>\n",
       "    </tr>\n",
       "    <tr>\n",
       "      <th>48</th>\n",
       "      <td>7.520000</td>\n",
       "      <td>79.56</td>\n",
       "      <td>80.094407</td>\n",
       "    </tr>\n",
       "    <tr>\n",
       "      <th>49</th>\n",
       "      <td>6.750000</td>\n",
       "      <td>77.82</td>\n",
       "      <td>77.061235</td>\n",
       "    </tr>\n",
       "    <tr>\n",
       "      <th>50</th>\n",
       "      <td>7.670000</td>\n",
       "      <td>80.58</td>\n",
       "      <td>80.685284</td>\n",
       "    </tr>\n",
       "    <tr>\n",
       "      <th>51</th>\n",
       "      <td>5.400000</td>\n",
       "      <td>71.10</td>\n",
       "      <td>71.743338</td>\n",
       "    </tr>\n",
       "    <tr>\n",
       "      <th>52</th>\n",
       "      <td>6.730000</td>\n",
       "      <td>75.65</td>\n",
       "      <td>76.982452</td>\n",
       "    </tr>\n",
       "    <tr>\n",
       "      <th>53</th>\n",
       "      <td>7.310000</td>\n",
       "      <td>77.77</td>\n",
       "      <td>79.267178</td>\n",
       "    </tr>\n",
       "    <tr>\n",
       "      <th>54</th>\n",
       "      <td>5.640000</td>\n",
       "      <td>73.19</td>\n",
       "      <td>72.688742</td>\n",
       "    </tr>\n",
       "    <tr>\n",
       "      <th>55</th>\n",
       "      <td>8.390000</td>\n",
       "      <td>83.37</td>\n",
       "      <td>83.521496</td>\n",
       "    </tr>\n",
       "    <tr>\n",
       "      <th>56</th>\n",
       "      <td>6.370000</td>\n",
       "      <td>75.04</td>\n",
       "      <td>75.564346</td>\n",
       "    </tr>\n",
       "    <tr>\n",
       "      <th>57</th>\n",
       "      <td>5.370000</td>\n",
       "      <td>71.80</td>\n",
       "      <td>71.625162</td>\n",
       "    </tr>\n",
       "    <tr>\n",
       "      <th>58</th>\n",
       "      <td>6.930000</td>\n",
       "      <td>78.45</td>\n",
       "      <td>77.770288</td>\n",
       "    </tr>\n",
       "    <tr>\n",
       "      <th>59</th>\n",
       "      <td>8.350000</td>\n",
       "      <td>83.08</td>\n",
       "      <td>83.363929</td>\n",
       "    </tr>\n",
       "  </tbody>\n",
       "</table>\n",
       "</div>"
      ],
      "text/plain": [
       "    Student study hours  student marks original  student marks predicted\n",
       "0              8.300000                   82.02                83.166970\n",
       "1              7.230000                   77.55                78.952044\n",
       "2              8.670000                   84.19                84.624468\n",
       "3              8.990000                   85.46                85.885006\n",
       "4              8.710000                   84.03                84.782035\n",
       "5              7.700000                   80.81                80.803460\n",
       "6              5.690000                   73.61                72.885701\n",
       "7              5.390000                   70.90                71.703946\n",
       "8              5.790000                   73.14                73.279619\n",
       "9              5.390000                   73.02                71.703946\n",
       "10             5.850000                   75.02                73.515970\n",
       "11             6.590000                   75.37                76.430966\n",
       "12             5.790000                   74.44                73.279619\n",
       "13             5.880000                   73.40                73.634146\n",
       "14             8.260000                   81.70                83.009403\n",
       "15             5.070000                   69.27                70.443407\n",
       "16             5.790000                   73.64                73.279619\n",
       "17             7.190000                   77.63                78.794476\n",
       "18             6.380000                   77.01                75.603738\n",
       "19             8.190000                   83.08                82.733660\n",
       "20             6.660000                   76.63                76.706709\n",
       "21             5.090000                   72.22                70.522191\n",
       "22             6.180000                   72.96                74.815901\n",
       "23             6.995949                   76.14                78.030073\n",
       "24             8.930000                   85.96                85.648655\n",
       "25             8.160000                   83.36                82.615484\n",
       "26             6.600000                   78.05                76.470358\n",
       "27             8.790000                   84.60                85.097170\n",
       "28             7.100000                   76.76                78.439950\n",
       "29             7.860000                   81.24                81.433729\n",
       "30             7.950000                   80.86                81.788256\n",
       "31             8.310000                   82.69                83.206362\n",
       "32             8.070000                   82.30                82.260958\n",
       "33             7.790000                   79.17                81.157986\n",
       "34             5.880000                   73.34                73.634146\n",
       "35             5.260000                   71.86                71.191852\n",
       "36             5.450000                   70.06                71.940297\n",
       "37             7.900000                   80.76                81.591296\n",
       "38             5.630000                   72.87                72.649350\n",
       "39             5.460000                   71.10                71.979689\n",
       "40             5.190000                   70.66                70.916109\n",
       "41             7.990000                   82.75                81.945823\n",
       "42             7.720000                   80.43                80.882243\n",
       "43             8.300000                   82.84                83.166970\n",
       "44             8.880000                   85.78                85.451696\n",
       "45             6.920000                   76.38                77.730897\n",
       "46             8.050000                   79.63                82.182174\n",
       "47             5.650000                   71.70                72.728134\n",
       "48             7.520000                   79.56                80.094407\n",
       "49             6.750000                   77.82                77.061235\n",
       "50             7.670000                   80.58                80.685284\n",
       "51             5.400000                   71.10                71.743338\n",
       "52             6.730000                   75.65                76.982452\n",
       "53             7.310000                   77.77                79.267178\n",
       "54             5.640000                   73.19                72.688742\n",
       "55             8.390000                   83.37                83.521496\n",
       "56             6.370000                   75.04                75.564346\n",
       "57             5.370000                   71.80                71.625162\n",
       "58             6.930000                   78.45                77.770288\n",
       "59             8.350000                   83.08                83.363929"
      ]
     },
     "execution_count": 54,
     "metadata": {},
     "output_type": "execute_result"
    }
   ],
   "source": [
    "pd.DataFrame(np.c_[X_test, y_test, y_pred], columns = ['Student study hours','student marks original','student marks predicted'])"
   ]
  },
  {
   "cell_type": "markdown",
   "id": "2f353cd4",
   "metadata": {},
   "source": [
    "# Model Evaluation"
   ]
  },
  {
   "cell_type": "code",
   "execution_count": 21,
   "id": "eec1812d",
   "metadata": {},
   "outputs": [
    {
     "data": {
      "text/plain": [
       "0.9524931690615001"
      ]
     },
     "execution_count": 21,
     "metadata": {},
     "output_type": "execute_result"
    }
   ],
   "source": [
    "lr.score(X_test,y_test)"
   ]
  },
  {
   "cell_type": "markdown",
   "id": "9dd54559",
   "metadata": {},
   "source": [
    "##### We can see, our model gives 95% accuracy which is a good model."
   ]
  },
  {
   "cell_type": "markdown",
   "id": "c8430684",
   "metadata": {},
   "source": [
    "## R-square"
   ]
  },
  {
   "cell_type": "code",
   "execution_count": 53,
   "id": "dd54614d",
   "metadata": {},
   "outputs": [
    {
     "data": {
      "text/plain": [
       "0.9524931690615001"
      ]
     },
     "execution_count": 53,
     "metadata": {},
     "output_type": "execute_result"
    }
   ],
   "source": [
    "from sklearn.metrics import r2_score\n",
    "\n",
    "r2_score(y_test, y_pred)"
   ]
  },
  {
   "cell_type": "code",
   "execution_count": 22,
   "id": "ed8a9596",
   "metadata": {},
   "outputs": [
    {
     "data": {
      "image/png": "[encoded data removed]",
      "text/plain": [
       "<Figure size 600x400 with 1 Axes>"
      ]
     },
     "metadata": {},
     "output_type": "display_data"
    }
   ],
   "source": [
    "plt.figure(figsize=(6,4))\n",
    "plt.scatter(X_train,y_train)\n",
    "plt.show()"
   ]
  },
  {
   "cell_type": "code",
   "execution_count": 23,
   "id": "f4bd3153",
   "metadata": {
    "scrolled": false
   },
   "outputs": [
    {
     "data": {
      "image/png": "[encoded data removed]",
      "text/plain": [
       "<Figure size 600x400 with 1 Axes>"
      ]
     },
     "metadata": {},
     "output_type": "display_data"
    }
   ],
   "source": [
    "plt.figure(figsize=(6,4))\n",
    "plt.scatter(X_test,y_test)\n",
    "plt.plot(X_train, lr.predict(X_train), color='r')\n",
    "plt.show()"
   ]
  }
 ],
 "metadata": {
  "kernelspec": {
   "display_name": "Python 3 (ipykernel)",
   "language": "python",
   "name": "python3"
  },
  "language_info": {
   "codemirror_mode": {
    "name": "ipython",
    "version": 3
   },
   "file_extension": ".py",
   "mimetype": "text/x-python",
   "name": "python",
   "nbconvert_exporter": "python",
   "pygments_lexer": "ipython3",
   "version": "3.10.9"
  }
 },
 "nbformat": 4,
 "nbformat_minor": 5
}
